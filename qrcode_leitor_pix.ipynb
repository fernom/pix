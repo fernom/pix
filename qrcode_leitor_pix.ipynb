{
 "cells": [
  {
   "cell_type": "markdown",
   "id": "bb89005e",
   "metadata": {},
   "source": [
    "### Decodificador de QR Code PIX\n",
    "23/01/22: Em trabalho"
   ]
  },
  {
   "cell_type": "code",
   "execution_count": 1,
   "id": "b304d4a9",
   "metadata": {},
   "outputs": [],
   "source": [
    "from pyzbar.pyzbar import decode\n",
    "from PIL import Image"
   ]
  },
  {
   "cell_type": "code",
   "execution_count": 3,
   "id": "4c0f1f13",
   "metadata": {},
   "outputs": [],
   "source": [
    "info = decode(Image.open('pix.png'))"
   ]
  },
  {
   "cell_type": "code",
   "execution_count": 4,
   "id": "16554b2d",
   "metadata": {},
   "outputs": [
    {
     "name": "stdout",
     "output_type": "stream",
     "text": [
      "[Decoded(data=b'00020126580014br.gov.bcb.pix0136123e4567-e12b-12d1-a456-4266554400005204000053039865802BR5913Fulano de Tal6008BRASILIA62070503***63041D3D', type='QRCODE', rect=Rect(left=40, top=40, width=450, height=450), polygon=[Point(x=40, y=40), Point(x=43, y=489), Point(x=490, y=490), Point(x=489, y=43)])]\n"
     ]
    }
   ],
   "source": [
    "print(info)"
   ]
  },
  {
   "cell_type": "code",
   "execution_count": 9,
   "id": "a823cb6e",
   "metadata": {},
   "outputs": [
    {
     "name": "stdout",
     "output_type": "stream",
     "text": [
      "b'00020126580014br.gov.bcb.pix0136123e4567-e12b-12d1-a456-4266554400005204000053039865802BR5913Fulano de Tal6008BRASILIA62070503***63041D3D'\n"
     ]
    }
   ],
   "source": [
    "for i in info:\n",
    "    #print(i.data.decode(\"utf-8\"))\n",
    "    print(i.data)"
   ]
  },
  {
   "cell_type": "code",
   "execution_count": 11,
   "id": "83616979",
   "metadata": {},
   "outputs": [
    {
     "data": {
      "text/plain": [
       "'00020126580014br.gov.bcb.pix0136123e4567-e12b-12d1-a456-4266554400005204000053039865802BR5913Fulano de Tal6008BRASILIA62070503***63041D3D'"
      ]
     },
     "execution_count": 11,
     "metadata": {},
     "output_type": "execute_result"
    }
   ],
   "source": [
    "info[0].data.decode(\"utf-8\")"
   ]
  },
  {
   "cell_type": "markdown",
   "id": "f197ee6c",
   "metadata": {},
   "source": [
    "A função decode pode trabalhar com mais de um código de barras por imagem. Por isso sua saída é uma lista. Como o qrcode usado é único na imagem, é uma lista com um item só, dentro dele tem os outros atributos."
   ]
  }
 ],
 "metadata": {
  "kernelspec": {
   "display_name": "Python 3 (ipykernel)",
   "language": "python",
   "name": "python3"
  },
  "language_info": {
   "codemirror_mode": {
    "name": "ipython",
    "version": 3
   },
   "file_extension": ".py",
   "mimetype": "text/x-python",
   "name": "python",
   "nbconvert_exporter": "python",
   "pygments_lexer": "ipython3",
   "version": "3.9.7"
  }
 },
 "nbformat": 4,
 "nbformat_minor": 5
}
